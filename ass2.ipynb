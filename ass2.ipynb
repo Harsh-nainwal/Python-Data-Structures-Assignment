{
 "cells": [
  {
   "cell_type": "markdown",
   "id": "3180a724-fe10-4202-94df-fb34f595c5db",
   "metadata": {},
   "source": [
    "ASSIGNMENT 2"
   ]
  },
  {
   "cell_type": "markdown",
   "id": "bee850c4-2f5c-42b9-b5fe-ea1a0b1fc34c",
   "metadata": {},
   "source": [
    "Q1. How do you comment code in Python? What are the different types of comments?"
   ]
  },
  {
   "cell_type": "markdown",
   "id": "5903d256-86b1-4d29-8133-bed8f6e63e77",
   "metadata": {},
   "source": [
    "Ans - I comment using \"#\" in python. Different types of comments in python are \n",
    "1) Single line comment - This is used by using \"#\". This is for a single line comment only. For example"
   ]
  },
  {
   "cell_type": "code",
   "execution_count": 1,
   "id": "95fc0054-3333-40b2-8171-e29e90dcdc0a",
   "metadata": {},
   "outputs": [],
   "source": [
    "# This is my assignment 2"
   ]
  },
  {
   "cell_type": "markdown",
   "id": "aca92030-dbb7-4e77-bfb9-c6afebd4ab7d",
   "metadata": {},
   "source": [
    "2. Multi line comments - \"\"\" or ''' are used to write the comment in multiple lines."
   ]
  },
  {
   "cell_type": "markdown",
   "id": "d0286a95-1e1d-408c-8708-3b98e91763fe",
   "metadata": {},
   "source": [
    "3. Docstrings - These are used inside a function within \"\"\"."
   ]
  },
  {
   "cell_type": "markdown",
   "id": "9db97207-a28e-4ea4-adc7-d715139b4fd6",
   "metadata": {},
   "source": [
    "Q2. What are variables in Python? How do you declare and assign values to variables?"
   ]
  },
  {
   "cell_type": "markdown",
   "id": "a86e481d-96bb-455c-b109-f1cc35390ecc",
   "metadata": {},
   "source": [
    "Ans - Variables are characters or words in python which are used to store values of different data types such as\n",
    "integer, string, float, boolean, etc.\n",
    "We use \"=\" to assign values to variables. For example : "
   ]
  },
  {
   "cell_type": "code",
   "execution_count": 5,
   "id": "da66e5da-3225-49b3-b6a4-6f637529e9b2",
   "metadata": {},
   "outputs": [],
   "source": [
    "a = \"Shashi Kant Sharma\""
   ]
  },
  {
   "cell_type": "markdown",
   "id": "ff27fe13-e239-4dbd-95cf-152f8823a63d",
   "metadata": {},
   "source": [
    "Here, a is variable and its value is \"Shashi Kant Sharma\""
   ]
  },
  {
   "cell_type": "code",
   "execution_count": 6,
   "id": "9e5fd7c1-39c5-42ad-b302-046610847f64",
   "metadata": {},
   "outputs": [
    {
     "data": {
      "text/plain": [
       "'Shashi Kant Sharma'"
      ]
     },
     "execution_count": 6,
     "metadata": {},
     "output_type": "execute_result"
    }
   ],
   "source": [
    "a"
   ]
  },
  {
   "cell_type": "markdown",
   "id": "e6fc9237-8b36-4dc6-bb32-1a539293799c",
   "metadata": {},
   "source": [
    "Q3. How do you convert one data type to another in Python?"
   ]
  },
  {
   "cell_type": "markdown",
   "id": "00d901e5-bff0-478c-8377-2bd80c69938a",
   "metadata": {},
   "source": [
    "We use functions like int(), float(), str() to convert one data type to another in python.\n"
   ]
  },
  {
   "cell_type": "markdown",
   "id": "8e05f4c6-68b5-4936-bcb5-57af55f0fa1a",
   "metadata": {},
   "source": [
    "Q4. How do you write and execute a Python script from the command line?"
   ]
  },
  {
   "cell_type": "markdown",
   "id": "fc99a02d-e84f-41e7-b22d-96ea101b33e2",
   "metadata": {},
   "source": [
    "Ans - I open a command line and type the word python followed by the path to my script file like this: \n",
    "    python script.py Hello World! Then press enter."
   ]
  },
  {
   "cell_type": "markdown",
   "id": "4b899ec1-264f-4b6e-b5f6-304afdc6acb1",
   "metadata": {},
   "source": [
    "Q5. Given a list my_list = [1, 2, 3, 4, 5], write the code to slice the list and obtain the sub-list [2, 3]."
   ]
  },
  {
   "cell_type": "code",
   "execution_count": 8,
   "id": "a9957f69-8b3b-4db5-aa7a-0b5dcb420142",
   "metadata": {},
   "outputs": [
    {
     "name": "stdout",
     "output_type": "stream",
     "text": [
      "[2, 3]\n"
     ]
    }
   ],
   "source": [
    "my_list = [1,2,3,4,5]\n",
    "print(my_list[1:3])"
   ]
  },
  {
   "cell_type": "markdown",
   "id": "6617e696-2b2b-4b1c-a292-4f7061215b36",
   "metadata": {},
   "source": [
    "Q6. What is a complex number in mathematics, and how is it represented in Python?"
   ]
  },
  {
   "cell_type": "markdown",
   "id": "b7eb2c7c-0655-4406-9d24-de76c2cdfd2f",
   "metadata": {},
   "source": [
    "Ans - A complex number in python are numbers which are not real. It is written as 3+4i in mathematics.\n",
    "But in python it is represented as 4+8j. For example :"
   ]
  },
  {
   "cell_type": "code",
   "execution_count": 9,
   "id": "ce381ab7-68b4-4405-838c-6bcf24397dca",
   "metadata": {},
   "outputs": [],
   "source": [
    "c = 4+8j"
   ]
  },
  {
   "cell_type": "code",
   "execution_count": 10,
   "id": "541b41ba-ec2a-4eee-ba71-97b62f0149a0",
   "metadata": {},
   "outputs": [
    {
     "data": {
      "text/plain": [
       "(4+8j)"
      ]
     },
     "execution_count": 10,
     "metadata": {},
     "output_type": "execute_result"
    }
   ],
   "source": [
    "c"
   ]
  },
  {
   "cell_type": "code",
   "execution_count": 11,
   "id": "2f21d6c0-9f45-42c2-ac8b-a7ba54c4b14b",
   "metadata": {},
   "outputs": [
    {
     "data": {
      "text/plain": [
       "complex"
      ]
     },
     "execution_count": 11,
     "metadata": {},
     "output_type": "execute_result"
    }
   ],
   "source": [
    "type(c)"
   ]
  },
  {
   "cell_type": "markdown",
   "id": "39941b9d-5092-4537-a2d0-2daf962fb807",
   "metadata": {},
   "source": [
    "Q7. What is the correct way to declare a variable named age and assign the value 25 to it?\n",
    "\n",
    "Ans - The correct way to declare it is  :"
   ]
  },
  {
   "cell_type": "code",
   "execution_count": 12,
   "id": "4a45d6b7-fb23-4cea-9559-a7ce51d443d3",
   "metadata": {},
   "outputs": [],
   "source": [
    "age = 25"
   ]
  },
  {
   "cell_type": "code",
   "execution_count": 13,
   "id": "39e23c92-a2dd-4abd-b36b-8bea339561d0",
   "metadata": {},
   "outputs": [
    {
     "data": {
      "text/plain": [
       "25"
      ]
     },
     "execution_count": 13,
     "metadata": {},
     "output_type": "execute_result"
    }
   ],
   "source": [
    "age"
   ]
  },
  {
   "cell_type": "markdown",
   "id": "7bb1ab92-cca7-4c35-b72c-cf36ee68315e",
   "metadata": {},
   "source": [
    "Q8. Declare a variable named price and assign the value 9.99 to it. What data type does this variable\n",
    "belong to?"
   ]
  },
  {
   "cell_type": "code",
   "execution_count": 14,
   "id": "623fec04-b360-421a-9b14-9f06a62e91ae",
   "metadata": {},
   "outputs": [],
   "source": [
    "price = 9.99"
   ]
  },
  {
   "cell_type": "code",
   "execution_count": 15,
   "id": "d76ffc51-9e2c-41e3-8a40-727b8416abac",
   "metadata": {},
   "outputs": [
    {
     "data": {
      "text/plain": [
       "float"
      ]
     },
     "execution_count": 15,
     "metadata": {},
     "output_type": "execute_result"
    }
   ],
   "source": [
    "type(price)"
   ]
  },
  {
   "cell_type": "markdown",
   "id": "8eb5de14-d391-40d6-b8cf-59031a28d208",
   "metadata": {},
   "source": [
    "Hence this is of float data type."
   ]
  },
  {
   "cell_type": "markdown",
   "id": "887dcdae-b9a5-4ffa-a8ad-493304619c11",
   "metadata": {},
   "source": [
    "Q9. Create a variable named name and assign your full name to it as a string. How would you print the\n",
    "value of this variable?"
   ]
  },
  {
   "cell_type": "code",
   "execution_count": 16,
   "id": "9d3576e5-ff81-4a8e-89ab-b042c9a8293f",
   "metadata": {},
   "outputs": [],
   "source": [
    "name = \"Shashi Kant Sharma\""
   ]
  },
  {
   "cell_type": "code",
   "execution_count": 17,
   "id": "078078f5-a09f-4142-82c2-650b6ec7ab95",
   "metadata": {},
   "outputs": [
    {
     "name": "stdout",
     "output_type": "stream",
     "text": [
      "Shashi Kant Sharma\n"
     ]
    }
   ],
   "source": [
    "# To print the value of this variable, we use\n",
    "print(name)"
   ]
  },
  {
   "cell_type": "markdown",
   "id": "4b6c87c9-297e-464d-898a-d4d38731ade7",
   "metadata": {},
   "source": [
    "Q10. Given the string \"Hello, World!\", extract the substring \"World\"."
   ]
  },
  {
   "cell_type": "code",
   "execution_count": 18,
   "id": "10cdfb6f-6ea4-49c0-8de8-db77b07daed5",
   "metadata": {},
   "outputs": [
    {
     "data": {
      "text/plain": [
       "'World'"
      ]
     },
     "execution_count": 18,
     "metadata": {},
     "output_type": "execute_result"
    }
   ],
   "source": [
    "\"Hello,World!\"[6:11]"
   ]
  },
  {
   "cell_type": "markdown",
   "id": "fedd7073-5759-4d93-a28d-54907d10bc0f",
   "metadata": {},
   "source": [
    "Q11. Create a variable named \"is_student\" and assign it a boolean value indicating whether you are\n",
    "currently a student or not."
   ]
  },
  {
   "cell_type": "code",
   "execution_count": 19,
   "id": "1e3cb3c6-49ca-4925-bcd4-260d13aa2fba",
   "metadata": {},
   "outputs": [],
   "source": [
    "is_student = True"
   ]
  },
  {
   "cell_type": "code",
   "execution_count": 20,
   "id": "c47bd034-f691-4f92-92cc-fd46d6c4858c",
   "metadata": {},
   "outputs": [
    {
     "data": {
      "text/plain": [
       "True"
      ]
     },
     "execution_count": 20,
     "metadata": {},
     "output_type": "execute_result"
    }
   ],
   "source": [
    "is_student"
   ]
  },
  {
   "cell_type": "code",
   "execution_count": null,
   "id": "4876660e-2d54-41ab-90c0-f3bb408b3e84",
   "metadata": {},
   "outputs": [],
   "source": []
  }
 ],
 "metadata": {
  "kernelspec": {
   "display_name": "Python 3 (ipykernel)",
   "language": "python",
   "name": "python3"
  },
  "language_info": {
   "codemirror_mode": {
    "name": "ipython",
    "version": 3
   },
   "file_extension": ".py",
   "mimetype": "text/x-python",
   "name": "python",
   "nbconvert_exporter": "python",
   "pygments_lexer": "ipython3",
   "version": "3.10.8"
  }
 },
 "nbformat": 4,
 "nbformat_minor": 5
}
